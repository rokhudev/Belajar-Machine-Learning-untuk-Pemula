{
  "nbformat": 4,
  "nbformat_minor": 0,
  "metadata": {
    "colab": {
      "provenance": []
    },
    "kernelspec": {
      "name": "python3",
      "display_name": "Python 3"
    },
    "language_info": {
      "name": "python"
    }
  },
  "cells": [
    {
      "cell_type": "markdown",
      "source": [
        "# **1. Import Library**"
      ],
      "metadata": {
        "id": "fKADPWcFKlj3"
      }
    },
    {
      "cell_type": "markdown",
      "source": [
        "Pada tahap ini, Anda perlu mengimpor beberapa pustaka (library) Python yang dibutuhkan untuk analisis data dan pembangunan model machine learning."
      ],
      "metadata": {
        "id": "LgA3ERnVn84N"
      }
    },
    {
      "cell_type": "code",
      "source": [
        "import pandas as pd\n",
        "import numpy as np\n",
        "from sklearn.model_selection import train_test_split\n",
        "from sklearn.preprocessing import StandardScaler\n",
        "from sklearn.metrics import accuracy_score, f1_score, confusion_matrix, classification_report\n",
        "from sklearn.linear_model import LogisticRegression\n",
        "from sklearn.ensemble import RandomForestClassifier\n",
        "from sklearn.model_selection import RandomizedSearchCV\n",
        "import matplotlib.pyplot as plt\n",
        "import seaborn as sns"
      ],
      "metadata": {
        "id": "BlmvjLY9M4Yj"
      },
      "execution_count": 29,
      "outputs": []
    },
    {
      "cell_type": "markdown",
      "source": [
        "# **2. Memuat Dataset dari Hasil Clustering**"
      ],
      "metadata": {
        "id": "f3YIEnAFKrKL"
      }
    },
    {
      "cell_type": "markdown",
      "source": [
        "Memuat dataset hasil clustering dari file CSV ke dalam variabel DataFrame."
      ],
      "metadata": {
        "id": "Ey3ItwTen_7E"
      }
    },
    {
      "cell_type": "code",
      "source": [
        "df_clustered = pd.read_csv('/content/Final Elite Sports Cars.csv') #buka dataset\n",
        "df_clustered.head() #tampilkan"
      ],
      "metadata": {
        "id": "GHCGNTyrM5fS",
        "colab": {
          "base_uri": "https://localhost:8080/",
          "height": 273
        },
        "outputId": "d3e8f326-103c-47c7-e777-49b847f8d548"
      },
      "execution_count": 30,
      "outputs": [
        {
          "output_type": "execute_result",
          "data": {
            "text/plain": [
              "   Engine_Size  Horsepower  Torque  Weight  Top_Speed  Acceleration_0_100  \\\n",
              "0          3.7         420     705    1785        238                 5.7   \n",
              "1          4.2         810    1222    2130        245                 2.1   \n",
              "2          7.4        1189     184    1526        185                 6.7   \n",
              "3          2.1         871     173    1490        186                 5.5   \n",
              "4          7.0         721    1364    1095        383                 4.2   \n",
              "\n",
              "   Fuel_Efficiency  CO2_Emissions   Price  Mileage  ...  Market_Demand_Low  \\\n",
              "0             10.5            307   81580    96664  ...              False   \n",
              "1              7.4            176  398429   222953  ...              False   \n",
              "2             12.6            207  133803   202882  ...              False   \n",
              "3             13.8            336   42412    45449  ...              False   \n",
              "4             13.5            347  347528   115875  ...               True   \n",
              "\n",
              "   Market_Demand_Medium  Modification_Nismo  Modification_RS  \\\n",
              "0                  True               False            False   \n",
              "1                  True                True            False   \n",
              "2                  True               False            False   \n",
              "3                  True               False            False   \n",
              "4                 False               False            False   \n",
              "\n",
              "   Modification_Sport  Modification_Supercharged  Modification_Track Edition  \\\n",
              "0               False                      False                       False   \n",
              "1               False                      False                       False   \n",
              "2               False                      False                       False   \n",
              "3               False                       True                       False   \n",
              "4               False                      False                       False   \n",
              "\n",
              "  Modification_Turbo  Modification_V-Spec  Cluster  \n",
              "0              False                 True      2.0  \n",
              "1              False                False      3.0  \n",
              "2              False                 True      2.0  \n",
              "3              False                False      2.0  \n",
              "4              False                False      3.0  \n",
              "\n",
              "[5 rows x 60 columns]"
            ],
            "text/html": [
              "\n",
              "  <div id=\"df-22adbcf2-afec-4fea-ad92-047676e10865\" class=\"colab-df-container\">\n",
              "    <div>\n",
              "<style scoped>\n",
              "    .dataframe tbody tr th:only-of-type {\n",
              "        vertical-align: middle;\n",
              "    }\n",
              "\n",
              "    .dataframe tbody tr th {\n",
              "        vertical-align: top;\n",
              "    }\n",
              "\n",
              "    .dataframe thead th {\n",
              "        text-align: right;\n",
              "    }\n",
              "</style>\n",
              "<table border=\"1\" class=\"dataframe\">\n",
              "  <thead>\n",
              "    <tr style=\"text-align: right;\">\n",
              "      <th></th>\n",
              "      <th>Engine_Size</th>\n",
              "      <th>Horsepower</th>\n",
              "      <th>Torque</th>\n",
              "      <th>Weight</th>\n",
              "      <th>Top_Speed</th>\n",
              "      <th>Acceleration_0_100</th>\n",
              "      <th>Fuel_Efficiency</th>\n",
              "      <th>CO2_Emissions</th>\n",
              "      <th>Price</th>\n",
              "      <th>Mileage</th>\n",
              "      <th>...</th>\n",
              "      <th>Market_Demand_Low</th>\n",
              "      <th>Market_Demand_Medium</th>\n",
              "      <th>Modification_Nismo</th>\n",
              "      <th>Modification_RS</th>\n",
              "      <th>Modification_Sport</th>\n",
              "      <th>Modification_Supercharged</th>\n",
              "      <th>Modification_Track Edition</th>\n",
              "      <th>Modification_Turbo</th>\n",
              "      <th>Modification_V-Spec</th>\n",
              "      <th>Cluster</th>\n",
              "    </tr>\n",
              "  </thead>\n",
              "  <tbody>\n",
              "    <tr>\n",
              "      <th>0</th>\n",
              "      <td>3.7</td>\n",
              "      <td>420</td>\n",
              "      <td>705</td>\n",
              "      <td>1785</td>\n",
              "      <td>238</td>\n",
              "      <td>5.7</td>\n",
              "      <td>10.5</td>\n",
              "      <td>307</td>\n",
              "      <td>81580</td>\n",
              "      <td>96664</td>\n",
              "      <td>...</td>\n",
              "      <td>False</td>\n",
              "      <td>True</td>\n",
              "      <td>False</td>\n",
              "      <td>False</td>\n",
              "      <td>False</td>\n",
              "      <td>False</td>\n",
              "      <td>False</td>\n",
              "      <td>False</td>\n",
              "      <td>True</td>\n",
              "      <td>2.0</td>\n",
              "    </tr>\n",
              "    <tr>\n",
              "      <th>1</th>\n",
              "      <td>4.2</td>\n",
              "      <td>810</td>\n",
              "      <td>1222</td>\n",
              "      <td>2130</td>\n",
              "      <td>245</td>\n",
              "      <td>2.1</td>\n",
              "      <td>7.4</td>\n",
              "      <td>176</td>\n",
              "      <td>398429</td>\n",
              "      <td>222953</td>\n",
              "      <td>...</td>\n",
              "      <td>False</td>\n",
              "      <td>True</td>\n",
              "      <td>True</td>\n",
              "      <td>False</td>\n",
              "      <td>False</td>\n",
              "      <td>False</td>\n",
              "      <td>False</td>\n",
              "      <td>False</td>\n",
              "      <td>False</td>\n",
              "      <td>3.0</td>\n",
              "    </tr>\n",
              "    <tr>\n",
              "      <th>2</th>\n",
              "      <td>7.4</td>\n",
              "      <td>1189</td>\n",
              "      <td>184</td>\n",
              "      <td>1526</td>\n",
              "      <td>185</td>\n",
              "      <td>6.7</td>\n",
              "      <td>12.6</td>\n",
              "      <td>207</td>\n",
              "      <td>133803</td>\n",
              "      <td>202882</td>\n",
              "      <td>...</td>\n",
              "      <td>False</td>\n",
              "      <td>True</td>\n",
              "      <td>False</td>\n",
              "      <td>False</td>\n",
              "      <td>False</td>\n",
              "      <td>False</td>\n",
              "      <td>False</td>\n",
              "      <td>False</td>\n",
              "      <td>True</td>\n",
              "      <td>2.0</td>\n",
              "    </tr>\n",
              "    <tr>\n",
              "      <th>3</th>\n",
              "      <td>2.1</td>\n",
              "      <td>871</td>\n",
              "      <td>173</td>\n",
              "      <td>1490</td>\n",
              "      <td>186</td>\n",
              "      <td>5.5</td>\n",
              "      <td>13.8</td>\n",
              "      <td>336</td>\n",
              "      <td>42412</td>\n",
              "      <td>45449</td>\n",
              "      <td>...</td>\n",
              "      <td>False</td>\n",
              "      <td>True</td>\n",
              "      <td>False</td>\n",
              "      <td>False</td>\n",
              "      <td>False</td>\n",
              "      <td>True</td>\n",
              "      <td>False</td>\n",
              "      <td>False</td>\n",
              "      <td>False</td>\n",
              "      <td>2.0</td>\n",
              "    </tr>\n",
              "    <tr>\n",
              "      <th>4</th>\n",
              "      <td>7.0</td>\n",
              "      <td>721</td>\n",
              "      <td>1364</td>\n",
              "      <td>1095</td>\n",
              "      <td>383</td>\n",
              "      <td>4.2</td>\n",
              "      <td>13.5</td>\n",
              "      <td>347</td>\n",
              "      <td>347528</td>\n",
              "      <td>115875</td>\n",
              "      <td>...</td>\n",
              "      <td>True</td>\n",
              "      <td>False</td>\n",
              "      <td>False</td>\n",
              "      <td>False</td>\n",
              "      <td>False</td>\n",
              "      <td>False</td>\n",
              "      <td>False</td>\n",
              "      <td>False</td>\n",
              "      <td>False</td>\n",
              "      <td>3.0</td>\n",
              "    </tr>\n",
              "  </tbody>\n",
              "</table>\n",
              "<p>5 rows × 60 columns</p>\n",
              "</div>\n",
              "    <div class=\"colab-df-buttons\">\n",
              "\n",
              "  <div class=\"colab-df-container\">\n",
              "    <button class=\"colab-df-convert\" onclick=\"convertToInteractive('df-22adbcf2-afec-4fea-ad92-047676e10865')\"\n",
              "            title=\"Convert this dataframe to an interactive table.\"\n",
              "            style=\"display:none;\">\n",
              "\n",
              "  <svg xmlns=\"http://www.w3.org/2000/svg\" height=\"24px\" viewBox=\"0 -960 960 960\">\n",
              "    <path d=\"M120-120v-720h720v720H120Zm60-500h600v-160H180v160Zm220 220h160v-160H400v160Zm0 220h160v-160H400v160ZM180-400h160v-160H180v160Zm440 0h160v-160H620v160ZM180-180h160v-160H180v160Zm440 0h160v-160H620v160Z\"/>\n",
              "  </svg>\n",
              "    </button>\n",
              "\n",
              "  <style>\n",
              "    .colab-df-container {\n",
              "      display:flex;\n",
              "      gap: 12px;\n",
              "    }\n",
              "\n",
              "    .colab-df-convert {\n",
              "      background-color: #E8F0FE;\n",
              "      border: none;\n",
              "      border-radius: 50%;\n",
              "      cursor: pointer;\n",
              "      display: none;\n",
              "      fill: #1967D2;\n",
              "      height: 32px;\n",
              "      padding: 0 0 0 0;\n",
              "      width: 32px;\n",
              "    }\n",
              "\n",
              "    .colab-df-convert:hover {\n",
              "      background-color: #E2EBFA;\n",
              "      box-shadow: 0px 1px 2px rgba(60, 64, 67, 0.3), 0px 1px 3px 1px rgba(60, 64, 67, 0.15);\n",
              "      fill: #174EA6;\n",
              "    }\n",
              "\n",
              "    .colab-df-buttons div {\n",
              "      margin-bottom: 4px;\n",
              "    }\n",
              "\n",
              "    [theme=dark] .colab-df-convert {\n",
              "      background-color: #3B4455;\n",
              "      fill: #D2E3FC;\n",
              "    }\n",
              "\n",
              "    [theme=dark] .colab-df-convert:hover {\n",
              "      background-color: #434B5C;\n",
              "      box-shadow: 0px 1px 3px 1px rgba(0, 0, 0, 0.15);\n",
              "      filter: drop-shadow(0px 1px 2px rgba(0, 0, 0, 0.3));\n",
              "      fill: #FFFFFF;\n",
              "    }\n",
              "  </style>\n",
              "\n",
              "    <script>\n",
              "      const buttonEl =\n",
              "        document.querySelector('#df-22adbcf2-afec-4fea-ad92-047676e10865 button.colab-df-convert');\n",
              "      buttonEl.style.display =\n",
              "        google.colab.kernel.accessAllowed ? 'block' : 'none';\n",
              "\n",
              "      async function convertToInteractive(key) {\n",
              "        const element = document.querySelector('#df-22adbcf2-afec-4fea-ad92-047676e10865');\n",
              "        const dataTable =\n",
              "          await google.colab.kernel.invokeFunction('convertToInteractive',\n",
              "                                                    [key], {});\n",
              "        if (!dataTable) return;\n",
              "\n",
              "        const docLinkHtml = 'Like what you see? Visit the ' +\n",
              "          '<a target=\"_blank\" href=https://colab.research.google.com/notebooks/data_table.ipynb>data table notebook</a>'\n",
              "          + ' to learn more about interactive tables.';\n",
              "        element.innerHTML = '';\n",
              "        dataTable['output_type'] = 'display_data';\n",
              "        await google.colab.output.renderOutput(dataTable, element);\n",
              "        const docLink = document.createElement('div');\n",
              "        docLink.innerHTML = docLinkHtml;\n",
              "        element.appendChild(docLink);\n",
              "      }\n",
              "    </script>\n",
              "  </div>\n",
              "\n",
              "\n",
              "<div id=\"df-904271f2-28ed-405f-b066-7c72769e9e79\">\n",
              "  <button class=\"colab-df-quickchart\" onclick=\"quickchart('df-904271f2-28ed-405f-b066-7c72769e9e79')\"\n",
              "            title=\"Suggest charts\"\n",
              "            style=\"display:none;\">\n",
              "\n",
              "<svg xmlns=\"http://www.w3.org/2000/svg\" height=\"24px\"viewBox=\"0 0 24 24\"\n",
              "     width=\"24px\">\n",
              "    <g>\n",
              "        <path d=\"M19 3H5c-1.1 0-2 .9-2 2v14c0 1.1.9 2 2 2h14c1.1 0 2-.9 2-2V5c0-1.1-.9-2-2-2zM9 17H7v-7h2v7zm4 0h-2V7h2v10zm4 0h-2v-4h2v4z\"/>\n",
              "    </g>\n",
              "</svg>\n",
              "  </button>\n",
              "\n",
              "<style>\n",
              "  .colab-df-quickchart {\n",
              "      --bg-color: #E8F0FE;\n",
              "      --fill-color: #1967D2;\n",
              "      --hover-bg-color: #E2EBFA;\n",
              "      --hover-fill-color: #174EA6;\n",
              "      --disabled-fill-color: #AAA;\n",
              "      --disabled-bg-color: #DDD;\n",
              "  }\n",
              "\n",
              "  [theme=dark] .colab-df-quickchart {\n",
              "      --bg-color: #3B4455;\n",
              "      --fill-color: #D2E3FC;\n",
              "      --hover-bg-color: #434B5C;\n",
              "      --hover-fill-color: #FFFFFF;\n",
              "      --disabled-bg-color: #3B4455;\n",
              "      --disabled-fill-color: #666;\n",
              "  }\n",
              "\n",
              "  .colab-df-quickchart {\n",
              "    background-color: var(--bg-color);\n",
              "    border: none;\n",
              "    border-radius: 50%;\n",
              "    cursor: pointer;\n",
              "    display: none;\n",
              "    fill: var(--fill-color);\n",
              "    height: 32px;\n",
              "    padding: 0;\n",
              "    width: 32px;\n",
              "  }\n",
              "\n",
              "  .colab-df-quickchart:hover {\n",
              "    background-color: var(--hover-bg-color);\n",
              "    box-shadow: 0 1px 2px rgba(60, 64, 67, 0.3), 0 1px 3px 1px rgba(60, 64, 67, 0.15);\n",
              "    fill: var(--button-hover-fill-color);\n",
              "  }\n",
              "\n",
              "  .colab-df-quickchart-complete:disabled,\n",
              "  .colab-df-quickchart-complete:disabled:hover {\n",
              "    background-color: var(--disabled-bg-color);\n",
              "    fill: var(--disabled-fill-color);\n",
              "    box-shadow: none;\n",
              "  }\n",
              "\n",
              "  .colab-df-spinner {\n",
              "    border: 2px solid var(--fill-color);\n",
              "    border-color: transparent;\n",
              "    border-bottom-color: var(--fill-color);\n",
              "    animation:\n",
              "      spin 1s steps(1) infinite;\n",
              "  }\n",
              "\n",
              "  @keyframes spin {\n",
              "    0% {\n",
              "      border-color: transparent;\n",
              "      border-bottom-color: var(--fill-color);\n",
              "      border-left-color: var(--fill-color);\n",
              "    }\n",
              "    20% {\n",
              "      border-color: transparent;\n",
              "      border-left-color: var(--fill-color);\n",
              "      border-top-color: var(--fill-color);\n",
              "    }\n",
              "    30% {\n",
              "      border-color: transparent;\n",
              "      border-left-color: var(--fill-color);\n",
              "      border-top-color: var(--fill-color);\n",
              "      border-right-color: var(--fill-color);\n",
              "    }\n",
              "    40% {\n",
              "      border-color: transparent;\n",
              "      border-right-color: var(--fill-color);\n",
              "      border-top-color: var(--fill-color);\n",
              "    }\n",
              "    60% {\n",
              "      border-color: transparent;\n",
              "      border-right-color: var(--fill-color);\n",
              "    }\n",
              "    80% {\n",
              "      border-color: transparent;\n",
              "      border-right-color: var(--fill-color);\n",
              "      border-bottom-color: var(--fill-color);\n",
              "    }\n",
              "    90% {\n",
              "      border-color: transparent;\n",
              "      border-bottom-color: var(--fill-color);\n",
              "    }\n",
              "  }\n",
              "</style>\n",
              "\n",
              "  <script>\n",
              "    async function quickchart(key) {\n",
              "      const quickchartButtonEl =\n",
              "        document.querySelector('#' + key + ' button');\n",
              "      quickchartButtonEl.disabled = true;  // To prevent multiple clicks.\n",
              "      quickchartButtonEl.classList.add('colab-df-spinner');\n",
              "      try {\n",
              "        const charts = await google.colab.kernel.invokeFunction(\n",
              "            'suggestCharts', [key], {});\n",
              "      } catch (error) {\n",
              "        console.error('Error during call to suggestCharts:', error);\n",
              "      }\n",
              "      quickchartButtonEl.classList.remove('colab-df-spinner');\n",
              "      quickchartButtonEl.classList.add('colab-df-quickchart-complete');\n",
              "    }\n",
              "    (() => {\n",
              "      let quickchartButtonEl =\n",
              "        document.querySelector('#df-904271f2-28ed-405f-b066-7c72769e9e79 button');\n",
              "      quickchartButtonEl.style.display =\n",
              "        google.colab.kernel.accessAllowed ? 'block' : 'none';\n",
              "    })();\n",
              "  </script>\n",
              "</div>\n",
              "\n",
              "    </div>\n",
              "  </div>\n"
            ],
            "application/vnd.google.colaboratory.intrinsic+json": {
              "type": "dataframe",
              "variable_name": "df_clustered"
            }
          },
          "metadata": {},
          "execution_count": 30
        }
      ]
    },
    {
      "cell_type": "markdown",
      "source": [
        "# **3. Data Splitting**"
      ],
      "metadata": {
        "id": "KkPem5eWL2UP"
      }
    },
    {
      "cell_type": "markdown",
      "source": [
        "Tahap Data Splitting bertujuan untuk memisahkan dataset menjadi dua bagian: data latih (training set) dan data uji (test set)."
      ],
      "metadata": {
        "id": "YYj1rl_JNI9Y"
      }
    },
    {
      "cell_type": "code",
      "source": [
        "missing_values = df_clustered['Cluster'].isna().sum() #cek nilai yang hilang\n",
        "print(f\"Jumlah nilai yang hilang di kolom 'Cluster': {missing_values}\")"
      ],
      "metadata": {
        "colab": {
          "base_uri": "https://localhost:8080/"
        },
        "id": "VkDEDb-j4zC9",
        "outputId": "5251b13a-6f57-4d68-bb28-c5fd7dfa8cb6"
      },
      "execution_count": 31,
      "outputs": [
        {
          "output_type": "stream",
          "name": "stdout",
          "text": [
            "Jumlah nilai yang hilang di kolom 'Cluster': 497\n"
          ]
        }
      ]
    },
    {
      "cell_type": "code",
      "source": [
        "df_clustered_cleaned = df_clustered.dropna(subset=['Cluster']) #hapus baris nilai kosong"
      ],
      "metadata": {
        "id": "3511pEH5KxCa"
      },
      "execution_count": 32,
      "outputs": []
    },
    {
      "cell_type": "code",
      "source": [
        "X = pd.get_dummies(df_clustered_cleaned.drop(columns=['Cluster']), drop_first=True) #encoding kolom kategorikal\n",
        "y = df_clustered_cleaned['Cluster']"
      ],
      "metadata": {
        "id": "-XX_F_cTBp34"
      },
      "execution_count": 33,
      "outputs": []
    },
    {
      "cell_type": "code",
      "source": [
        "#bagi data latih (80%) dan data uji (20%)\n",
        "X_train, X_test, y_train, y_test = train_test_split(X,\n",
        "                                                    y,\n",
        "                                                    test_size=0.2,\n",
        "                                                    random_state=42,\n",
        "                                                    stratify=y)"
      ],
      "metadata": {
        "id": "ktWIwvekK024"
      },
      "execution_count": 34,
      "outputs": []
    },
    {
      "cell_type": "code",
      "source": [
        "print(f\"Dimensi data latih: {X_train.shape}\")\n",
        "print(f\"Dimensi data uji: {X_test.shape}\")"
      ],
      "metadata": {
        "colab": {
          "base_uri": "https://localhost:8080/"
        },
        "id": "4vXGapxgK81e",
        "outputId": "cb3ac4b4-feec-4dd9-871a-8b146438ded4"
      },
      "execution_count": 35,
      "outputs": [
        {
          "output_type": "stream",
          "name": "stdout",
          "text": [
            "Dimensi data latih: (1184, 60)\n",
            "Dimensi data uji: (296, 60)\n"
          ]
        }
      ]
    },
    {
      "cell_type": "markdown",
      "source": [
        "# **4. Membangun Model Klasifikasi**\n"
      ],
      "metadata": {
        "id": "IVPbB03CMhTT"
      }
    },
    {
      "cell_type": "markdown",
      "source": [
        "## **a. Membangun Model Klasifikasi**"
      ],
      "metadata": {
        "id": "Ned1pL9zMmBK"
      }
    },
    {
      "cell_type": "markdown",
      "source": [
        "Setelah memilih algoritma klasifikasi yang sesuai, langkah selanjutnya adalah melatih model menggunakan data latih.\n",
        "\n",
        "Berikut adalah rekomendasi tahapannya.\n",
        "1. Pilih algoritma klasifikasi yang sesuai, seperti Logistic Regression, Decision Tree, Random Forest, atau K-Nearest Neighbors (KNN).\n",
        "2. Latih model menggunakan data latih."
      ],
      "metadata": {
        "id": "WAWzPOE4Nkti"
      }
    },
    {
      "cell_type": "code",
      "source": [
        "#standarisasi hanya untuk logistic regression\n",
        "scaler = StandardScaler()\n",
        "X_train_scaled = scaler.fit_transform(X_train)\n",
        "X_test_scaled = scaler.transform(X_test)"
      ],
      "metadata": {
        "id": "iem08bZA5-Gj"
      },
      "execution_count": 36,
      "outputs": []
    },
    {
      "cell_type": "code",
      "source": [
        "#latih model logistic regression\n",
        "logreg = LogisticRegression(multi_class='multinomial', solver='lbfgs', max_iter=1000, random_state=42)\n",
        "logreg.fit(X_train_scaled, y_train)\n",
        "y_pred_lr = logreg.predict(X_test_scaled)"
      ],
      "metadata": {
        "colab": {
          "base_uri": "https://localhost:8080/"
        },
        "id": "EgJew9cELEDB",
        "outputId": "03e0d367-02a2-4ed5-bcaa-ed6e7a34089c"
      },
      "execution_count": 37,
      "outputs": [
        {
          "output_type": "stream",
          "name": "stderr",
          "text": [
            "/usr/local/lib/python3.11/dist-packages/sklearn/linear_model/_logistic.py:1247: FutureWarning: 'multi_class' was deprecated in version 1.5 and will be removed in 1.7. From then on, it will always use 'multinomial'. Leave it to its default value to avoid this warning.\n",
            "  warnings.warn(\n"
          ]
        }
      ]
    },
    {
      "cell_type": "code",
      "source": [
        "#latih model random forest\n",
        "rf = RandomForestClassifier(n_estimators=100, random_state=42)\n",
        "rf.fit(X_train, y_train)\n",
        "y_pred_rf = rf.predict(X_test)"
      ],
      "metadata": {
        "id": "6Z7cdtpcLGod"
      },
      "execution_count": 38,
      "outputs": []
    },
    {
      "cell_type": "markdown",
      "source": [
        "**1.   Random Forest**\n",
        "- Algoritma ini dipilih karena dataset memiliki fitur yang beragam, termasuk fitur numerik dan kategorikal yang telah dikonversi menggunakan one-hot encoding.\n",
        "- Random Forest bekerja dengan membangun banyak decision tree, di mana setiap pohon dilatih pada subset data yang berbeda. Dengan cara ini, model dapat menangkap pola kompleks dalam data, bahkan jika hubungan antara fitur dan target tidak linier.\n",
        "- Keunggulan lain adalah kemampuannya menangani outlier serta fitur yang memiliki hubungan non-linier dengan target, yang mungkin terdapat dalam dataset ini.\n",
        "- Model ini tidak memerlukan standarisasi fitur, sehingga lebih fleksibel dalam menangani dataset dengan skala yang berbeda.\n",
        "- Pada kode, Random Forest diterapkan menggunakan RandomForestClassifier(n_estimators=100), dan dilakukan hyperparameter tuning menggunakan RandomizedSearchCV untuk meningkatkan akurasi model.\n",
        "\n",
        "**2.   Logistic Regression**\n",
        "\n",
        "- Model ini dipilih sebagai pembanding karena mampu memberikan hasil prediksi yang lebih mudah diinterpretasikan, terutama ketika hubungan antara fitur dan target bersifat linier.\n",
        "- Logistic Regression bekerja dengan menggunakan fungsi sigmoid untuk mengubah output prediksi menjadi probabilitas, sehingga cocok untuk tugas klasifikasi seperti penentuan cluster mobil dalam dataset.\n",
        "- Model ini memerlukan standarisasi fitur, karena Logistic Regression sensitif terhadap skala data. Oleh karena itu, pada kode, dilakukan standarisasi menggunakan StandardScaler() sebelum model dilatih.\n",
        "- Kelebihan utama Logistic Regression adalah kesederhanaannya dan efisiensi komputasi, sehingga cocok untuk digunakan jika dataset memiliki hubungan yang cukup linier antara fitur dan variabel target.\n",
        "\n",
        "**Dataset Final Elite Sports Cars digunakan untuk mengelompokkan mobil ke dalam cluster tertentu. Dengan memilih dua model ini:**\n",
        "\n",
        "- Random Forest: Dapat menangkap pola kompleks dalam data, menangani fitur non-linier, dan menghindari overfitting dengan teknik ensemble.\n",
        "- Logistic Regression: Digunakan sebagai baseline model yang lebih sederhana untuk melihat apakah hubungan linier cukup efektif dalam klasifikasi cluster mobil."
      ],
      "metadata": {
        "id": "seYoHNY3XU1y"
      }
    },
    {
      "cell_type": "markdown",
      "source": [
        "## **b. Evaluasi Model Klasifikasi**"
      ],
      "metadata": {
        "id": "ergzChZFEL-O"
      }
    },
    {
      "cell_type": "markdown",
      "source": [
        "Berikut adalah **rekomendasi** tahapannya.\n",
        "1. Lakukan prediksi menggunakan data uji.\n",
        "2. Hitung metrik evaluasi seperti Accuracy dan F1-Score (Opsional: Precision dan Recall).\n",
        "3. Buat confusion matrix untuk melihat detail prediksi benar dan salah."
      ],
      "metadata": {
        "id": "zOm68u-7NpLT"
      }
    },
    {
      "cell_type": "code",
      "source": [
        "#fungsi evaluasi model\n",
        "def evaluate_model(y_test, y_pred, model_name):\n",
        "    accuracy = accuracy_score(y_test, y_pred)\n",
        "    f1 = f1_score(y_test, y_pred, average='weighted')\n",
        "    cm = confusion_matrix(y_test, y_pred)\n",
        "    report = classification_report(y_test, y_pred)\n",
        "\n",
        "    print(f\"\\n{model_name} Performance:\")\n",
        "    print(f\"Akurasi: {accuracy:.2f}\")\n",
        "    print(f\"F1-Score: {f1:.2f}\")\n",
        "    print(\"Laporan Klasifikasi:\\n\", report)\n",
        "\n",
        "    #confusion matrix\n",
        "    plt.figure(figsize=(6,4))\n",
        "    sns.heatmap(cm,\n",
        "                annot=True,\n",
        "                fmt=\"d\",\n",
        "                cmap=\"Greens\",\n",
        "                xticklabels=np.unique(y_test),\n",
        "                yticklabels=np.unique(y_test))\n",
        "    plt.xlabel('Predicted')\n",
        "    plt.ylabel('Actual')\n",
        "    plt.title(f'Confusion Matrix - {model_name}')\n",
        "    plt.show()\n",
        "\n",
        "    return accuracy, f1, cm  #return"
      ],
      "metadata": {
        "id": "tMq4QAssNLip"
      },
      "execution_count": 42,
      "outputs": []
    },
    {
      "cell_type": "code",
      "source": [
        "#evaluasi logistic regression\n",
        "evaluate_model(y_test, y_pred_lr, \"Logistic Regression\")\n",
        "\n",
        "#evaluasi random forest\n",
        "evaluate_model(y_test, y_pred_rf, \"Random Forest\")"
      ],
      "metadata": {
        "colab": {
          "base_uri": "https://localhost:8080/",
          "height": 1000
        },
        "id": "xmqejSOxYFMF",
        "outputId": "ecd76b5a-4ac8-4106-b9fd-6bed2eb51078"
      },
      "execution_count": 43,
      "outputs": [
        {
          "output_type": "stream",
          "name": "stdout",
          "text": [
            "\n",
            "Logistic Regression Performance:\n",
            "Akurasi: 0.95\n",
            "F1-Score: 0.95\n",
            "Laporan Klasifikasi:\n",
            "               precision    recall  f1-score   support\n",
            "\n",
            "         0.0       0.93      0.99      0.95        75\n",
            "         1.0       0.94      0.94      0.94        70\n",
            "         2.0       0.97      0.94      0.95        78\n",
            "         3.0       0.94      0.92      0.93        73\n",
            "\n",
            "    accuracy                           0.95       296\n",
            "   macro avg       0.95      0.95      0.95       296\n",
            "weighted avg       0.95      0.95      0.95       296\n",
            "\n"
          ]
        },
        {
          "output_type": "display_data",
          "data": {
            "text/plain": [
              "<Figure size 600x400 with 2 Axes>"
            ],
            "image/png": "[encoded data removed]"
          },
          "metadata": {}
        },
        {
          "output_type": "stream",
          "name": "stdout",
          "text": [
            "\n",
            "Random Forest Performance:\n",
            "Akurasi: 0.90\n",
            "F1-Score: 0.89\n",
            "Laporan Klasifikasi:\n",
            "               precision    recall  f1-score   support\n",
            "\n",
            "         0.0       0.89      0.87      0.88        75\n",
            "         1.0       0.91      0.83      0.87        70\n",
            "         2.0       0.93      0.99      0.96        78\n",
            "         3.0       0.86      0.89      0.87        73\n",
            "\n",
            "    accuracy                           0.90       296\n",
            "   macro avg       0.89      0.89      0.89       296\n",
            "weighted avg       0.90      0.90      0.89       296\n",
            "\n"
          ]
        },
        {
          "output_type": "display_data",
          "data": {
            "text/plain": [
              "<Figure size 600x400 with 2 Axes>"
            ],
            "image/png": "[encoded data removed]"
          },
          "metadata": {}
        },
        {
          "output_type": "execute_result",
          "data": {
            "text/plain": [
              "(0.8952702702702703,\n",
              " 0.8945113652828064,\n",
              " array([[65,  2,  4,  4],\n",
              "        [ 5, 58,  1,  6],\n",
              "        [ 0,  0, 77,  1],\n",
              "        [ 3,  4,  1, 65]]))"
            ]
          },
          "metadata": {},
          "execution_count": 43
        }
      ]
    },
    {
      "cell_type": "markdown",
      "source": [
        "**1. Hasil Evaluasi Model**\n",
        "\n",
        "Logistic Regression menunjukkan performa lebih baik dibandingkan Random Forest, dengan akurasi 95% dan F1-score 95%, sedangkan Random Forest memiliki akurasi 90% dan F1-score 89%. Ini mengindikasikan bahwa dataset memiliki hubungan linier antara fitur dan target, sehingga Logistic Regression dapat menangkap pola dengan baik tanpa perlu model yang lebih kompleks.\n",
        "\n",
        "**2. Hasil Confusion Matrix**\n",
        "\n",
        "Logistic Regression memiliki distribusi prediksi yang lebih seimbang di semua kelas. Precision dan recall yang tinggi pada setiap kategori menunjukkan bahwa model ini dapat mengenali pola dengan sangat baik tanpa banyak kesalahan klasifikasi.\n",
        "- Kelas 0: 10 kesalahan klasifikasi (5 kelas 1, 4 kelas 2, 1 kelas 3).\n",
        "- Kelas 1: 12 kesalahan klasifikasi (6 kelas 0, 1 kelas 2, 5 kelas 3).\n",
        "- Kelas 2: 5 kesalahan klasifikasi (1 kelas 0, 4 kelas 3).\n",
        "- Kelas 3: 6 kesalahan klasifikasi (3 kelas 0, 1 kelas 2, 2 kelas 1).\n",
        "\n",
        "Random Forest menunjukkan sedikit kelemahan dalam membedakan kelas 1.0, dengan recall hanya 83%, yang berarti model ini sering salah mengklasifikasikan data di kelas tersebut sebagai kelas lain. Namun, pada kelas 2.0, Random Forest justru memiliki performa hampir sempurna, dengan recall 99%, menunjukkan bahwa model ini sangat andal dalam mengenali pola untuk kategori tersebut.\n",
        "- Kelas 0: 10 kesalahan klasifikasi (2 kelas 1, 4 kelas 2, 4 kelas 3).\n",
        "- Kelas 1: 12 kesalahan klasifikasi (5 kelas 0, 1 kelas 2, 6 kelas 3).\n",
        "- Kelas 2: 1 kesalahan klasifikasi (1 kelas 3).\n",
        "- Kelas 3: 8 kesalahan klasifikasi (3 kelas 0, 1 kelas 2, 4 kelas 1).\n",
        "\n",
        "**3. Perbandingan Kedua Model**\n",
        "\n",
        "Logistic Regression lebih cocok untuk dataset ini karena lebih sederhana, akurat, dan mudah diinterpretasikan. Random Forest, meskipun fleksibel dan dapat menangani hubungan non-linear, mengalami sedikit penurunan akurasi akibat ketidakseimbangan dalam mengenali beberapa kelas.\n",
        "\n",
        "**Kesimpulan**\n",
        "\n",
        "Logistic Regression lebih direkomendasikan untuk dataset ini karena memiliki akurasi lebih tinggi dan lebih stabil dalam mengklasifikasikan semua kelas. Random Forest masih bisa menjadi alternatif jika dataset di masa depan memiliki lebih banyak hubungan non-linear yang kompleks."
      ],
      "metadata": {
        "id": "H4_9OwrsXZlz"
      }
    },
    {
      "cell_type": "markdown",
      "source": [
        "## **c. Tuning Model Klasifikasi (Optional)**"
      ],
      "metadata": {
        "id": "ph9yIYDXEPuB"
      }
    },
    {
      "cell_type": "markdown",
      "source": [
        "Gunakan GridSearchCV, RandomizedSearchCV, atau metode lainnya untuk mencari kombinasi hyperparameter terbaik"
      ],
      "metadata": {
        "id": "-Bikx3LINv5e"
      }
    },
    {
      "cell_type": "code",
      "source": [
        "#hyperparamter tuning RandomizedSearchCV\n",
        "param_dist = {\n",
        "    'n_estimators': [50, 100, 150],  #kurangi jumlah estimators agar tidak terlalu kompleks\n",
        "    'max_depth': [None, 5, 10, 15],  #tambahkan batasan kedalaman pohon\n",
        "    'min_samples_split': [2, 4, 6],  #coba nilai lebih kecil untuk menghindari overfitting\n",
        "    'min_samples_leaf': [1, 2, 3]}\n",
        "\n",
        "random_search = RandomizedSearchCV(\n",
        "    estimator=RandomForestClassifier(random_state=42),\n",
        "    param_distributions=param_dist,\n",
        "    n_iter=10,\n",
        "    cv=5,\n",
        "    scoring='accuracy',\n",
        "    n_jobs=-1,\n",
        "    verbose=1,\n",
        "    random_state=42)\n",
        "\n",
        "# Latih model dengan RandomizedSearchCV\n",
        "random_search.fit(X_train, y_train)\n",
        "\n",
        "# Model terbaik\n",
        "best_rf = random_search.best_estimator_\n",
        "print(\"\\nHyperparameter terbaik:\", random_search.best_params_)"
      ],
      "metadata": {
        "id": "winbFzb8NL95",
        "colab": {
          "base_uri": "https://localhost:8080/"
        },
        "outputId": "45828739-f962-45f1-dfcd-a1bf9c22ab16"
      },
      "execution_count": 44,
      "outputs": [
        {
          "output_type": "stream",
          "name": "stdout",
          "text": [
            "Fitting 5 folds for each of 10 candidates, totalling 50 fits\n",
            "\n",
            "Hyperparameter terbaik: {'n_estimators': 150, 'min_samples_split': 6, 'min_samples_leaf': 1, 'max_depth': 10}\n"
          ]
        }
      ]
    },
    {
      "cell_type": "markdown",
      "source": [
        "## **d. Evaluasi Model Klasifikasi setelah Tuning (Optional)**"
      ],
      "metadata": {
        "id": "hE7pqlEPEYzI"
      }
    },
    {
      "cell_type": "markdown",
      "source": [
        "Berikut adalah rekomendasi tahapannya.\n",
        "1. Gunakan model dengan hyperparameter terbaik.\n",
        "2. Hitung ulang metrik evaluasi untuk melihat apakah ada peningkatan performa."
      ],
      "metadata": {
        "id": "feaPESoeN0zz"
      }
    },
    {
      "cell_type": "code",
      "source": [
        "# Prediksi dengan model terbaik\n",
        "y_pred_best_rf = best_rf.predict(X_test)\n",
        "\n",
        "# Evaluasi Random Forest setelah tuning\n",
        "acc_best_rf, f1_best_rf, cm_best_rf = evaluate_model(y_test, y_pred_best_rf, \"Random Forest Tuned\")\n",
        "\n",
        "print(\"Random Forest Tuned - Accuracy:\", acc_best_rf)\n",
        "print(\"Random Forest Tuned - F1-Score:\", f1_best_rf)\n",
        "print(\"Confusion Matrix Random Forest Tuned:\\n\", cm_best_rf)"
      ],
      "metadata": {
        "id": "HTXZRvEeNMb1",
        "colab": {
          "base_uri": "https://localhost:8080/",
          "height": 809
        },
        "outputId": "43391b7d-b2f5-4f5d-b48b-096e7cc25b9c"
      },
      "execution_count": 45,
      "outputs": [
        {
          "output_type": "stream",
          "name": "stdout",
          "text": [
            "\n",
            "Random Forest Tuned Performance:\n",
            "Akurasi: 0.88\n",
            "F1-Score: 0.88\n",
            "Laporan Klasifikasi:\n",
            "               precision    recall  f1-score   support\n",
            "\n",
            "         0.0       0.90      0.85      0.88        75\n",
            "         1.0       0.89      0.83      0.86        70\n",
            "         2.0       0.92      0.97      0.94        78\n",
            "         3.0       0.82      0.86      0.84        73\n",
            "\n",
            "    accuracy                           0.88       296\n",
            "   macro avg       0.88      0.88      0.88       296\n",
            "weighted avg       0.88      0.88      0.88       296\n",
            "\n"
          ]
        },
        {
          "output_type": "display_data",
          "data": {
            "text/plain": [
              "<Figure size 600x400 with 2 Axes>"
            ],
            "image/png": "[encoded data removed]"
          },
          "metadata": {}
        },
        {
          "output_type": "stream",
          "name": "stdout",
          "text": [
            "Random Forest Tuned - Accuracy: 0.8817567567567568\n",
            "Random Forest Tuned - F1-Score: 0.8812882579678292\n",
            "Confusion Matrix Random Forest Tuned:\n",
            " [[64  2  3  6]\n",
            " [ 4 58  1  7]\n",
            " [ 0  1 76  1]\n",
            " [ 3  4  3 63]]\n"
          ]
        }
      ]
    },
    {
      "cell_type": "markdown",
      "source": [
        "## **e. Analisis Hasil Evaluasi Model Klasifikasi**"
      ],
      "metadata": {
        "id": "ZRsOdm4uEgAW"
      }
    },
    {
      "cell_type": "markdown",
      "source": [
        "1. Dalam perbandingan dua model ini, Logistic Regression terbukti lebih akurat dibandingkan Random Forest. Logistic Regression memiliki akurasi 95%, sedangkan Random Forest sebelum tuning mencapai 90%, dan setelah tuning justru turun menjadi 88%. Ini berarti bahwa Logistic Regression mampu memprediksi data dengan lebih baik, sedangkan Random Forest masih memiliki kelemahan dalam menangkap pola data.\n",
        "\n",
        "2. Melihat hasil sebelum dan setelah tuning, Random Forest justru mengalami sedikit penurunan akurasi, yang menunjukkan bahwa pengaturan baru belum optimal. Hal ini bisa disebabkan oleh pemilihan parameter yang kurang tepat, seperti jumlah pohon dalam hutan atau kedalaman maksimum pohon. Model ini juga tampak lebih sering melakukan kesalahan dalam mengklasifikasikan beberapa kategori data.\n",
        "\n",
        "3. Untuk meningkatkan Random Forest, kita bisa mencoba menggunakan teknik tuning yang lebih baik, seperti Grid Search agar model bisa menemukan kombinasi parameter terbaik. Selain itu, kita juga bisa melakukan pembersihan data yang lebih baik dan mencoba menggunakan lebih banyak fitur yang relevan agar model bisa belajar dengan lebih akurat dan bisa juga kita perbanyak datanya.\n",
        "\n",
        "**Kesimpulannya**\n",
        "\n",
        "Dalam kasus ini, Logistic Regression lebih cocok digunakan karena lebih akurat dan lebih stabil, sementara Random Forest masih bisa diperbaiki dengan tuning yang lebih cermat. Jika ingin hasil yang lebih baik, kita perlu mencoba beberapa pengaturan tambahan atau mempertimbangkan kembali apakah Random Forest adalah pilihan yang tepat untuk dataset ini."
      ],
      "metadata": {
        "id": "Hm3BhSi6N4_l"
      }
    }
  ]
}